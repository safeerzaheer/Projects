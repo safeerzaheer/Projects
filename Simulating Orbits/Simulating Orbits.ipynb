{
 "cells": [
  {
   "cell_type": "markdown",
   "metadata": {},
   "source": [
    "# Title\n",
    "\n",
    "## Introduction\n",
    "\n",
    "**Replace the contents of this cell with your own title and introduction.**\n",
    "\n",
    "Remember that the submitted notebook should form a self-contained document. You do not need to include a full derivation of the numerical model for Newton's law of gravitation, as given in the instructions for the task, but you do need to provide an overview of the relevant physics (including equations) and a discussion of the aims of the investigation and the approach taken.\n",
    "\n",
    "Your text cells should be structured in complete, grammatically correct, coherent sentences and paragraphs. Do not paste text verbatim from the script."
   ]
  },
  {
   "cell_type": "code",
   "execution_count": 1,
   "metadata": {},
   "outputs": [
    {
     "data": {
      "text/html": [
       "<div id=\"glowscript\" class=\"glowscript\"></div>"
      ],
      "text/plain": [
       "<IPython.core.display.HTML object>"
      ]
     },
     "metadata": {},
     "output_type": "display_data"
    },
    {
     "data": {
      "application/javascript": [
       "if (typeof Jupyter !== \"undefined\") { window.__context = { glowscript_container: $(\"#glowscript\").removeAttr(\"id\")};}else{ element.textContent = ' ';}"
      ],
      "text/plain": [
       "<IPython.core.display.Javascript object>"
      ]
     },
     "metadata": {},
     "output_type": "display_data"
    }
   ],
   "source": [
    "import numpy as np\n",
    "from vpython import vector, mag, sphere, rate, color, canvas\n",
    "G = 1.      # gravitational constant [using units where gravitational constant is 1.0]"
   ]
  },
  {
   "cell_type": "markdown",
   "metadata": {},
   "source": [
    "## Part A"
   ]
  },
  {
   "cell_type": "markdown",
   "metadata": {},
   "source": [
    "### 1. Calculating the gravitational force between two objects\n",
    "\n",
    "You should complete the following function, without changing its name, arguments or docstring, to calculate the force on one object due to the gravitational field of another."
   ]
  },
  {
   "cell_type": "code",
   "execution_count": 2,
   "metadata": {},
   "outputs": [],
   "source": [
    "def force(pos1, pos2, m1, m2):\n",
    "    \"\"\"\n",
    "    Returns the gravitational force exerted by object 2 on object 1.\n",
    "    Input:\n",
    "      - pos1 = position vector of first object\n",
    "      - pos2 = position vector of second object\n",
    "      - m1   = mass of first object\n",
    "      - m2   = mass of second object\n",
    "    Depends on:\n",
    "      - G    = gravitational constant (global variable)\n",
    "    \"\"\"\n",
    "    ##################\n",
    "    # YOUR CODE HERE #\n",
    "    ##################\n",
    "    r = pos2 - pos1                                      #Calculate the distance between two objects\n",
    "    G = 1                                                #Set value for gravitational constant\n",
    "    F = (G * m1 * m2 * r)/mag(r)**3                      #Calculate vector-value of gravitational force between the two objects\n",
    "    \n",
    "    \n",
    "    return F                                             #Returns the gravitational force vector\n",
    "    \n",
    "    "
   ]
  },
  {
   "cell_type": "markdown",
   "metadata": {},
   "source": [
    "#### Testing your function\n",
    "\n",
    "The following cell applies some tests to help you make sure your `force` function works correctly before you use it in the rest of the task. You do not need to understand the details of how it works, but it may help you narrow down any bugs in your code. If each line of output starts with `OK` then it is likely (but not guaranteed) that you have implemented the function correctly."
   ]
  },
  {
   "cell_type": "code",
   "execution_count": 3,
   "metadata": {},
   "outputs": [
    {
     "name": "stdout",
     "output_type": "stream",
     "text": [
      "OK: correct results for input (<0, 0, 0>, <1, 0, 0>, 1, 1)\n",
      "OK: correct results for input (<1, 0, 0>, <0, 0, 0>, 1, 1)\n",
      "OK: correct results for input (<0, 0, 0>, <2, 0, 0>, 1, 1)\n",
      "OK: correct results for input (<0, 0, 0>, <0, 1, 0>, 1, 1)\n",
      "OK: correct results for input (<10, 0, 0>, <10, 1, 0>, 1, 1)\n"
     ]
    }
   ],
   "source": [
    "################################################\n",
    "#                                              #\n",
    "# Test force is correct in a few simple cases. #\n",
    "#                                              #\n",
    "#   DO NOT CHANGE THE CODE IN THIS CELL.       #\n",
    "#                                              #\n",
    "################################################\n",
    "\n",
    "def test_force(pos1, pos2, m1, m2, expected_force):\n",
    "    epsilon = 1e-10\n",
    "    f = force(pos1, pos2, m1, m2)\n",
    "    if not isinstance(f,vector):\n",
    "        print(f\"ERROR: function should return a vector but returns {f}.\")\n",
    "        return\n",
    "    args_as_string = f\"({pos1}, {pos2}, {m1}, {m2})\"\n",
    "    error = mag(f-expected_force)\n",
    "    if error<epsilon:\n",
    "        print(f\"OK: correct results for input {args_as_string}\")\n",
    "    else:\n",
    "        print(f\"ERROR: wrong results for input {args_as_string}\")\n",
    "        print(f\"  expected: {expected_force}\")\n",
    "        print(f\"  got:      {f}\")\n",
    "\n",
    "test_force(vector(0,0,0),vector(1,0,0),1,1,vector(1,0,0))    # distance = 1 in x direction\n",
    "test_force(vector(1,0,0),vector(0,0,0),1,1,vector(-1,0,0))   # swap objects\n",
    "test_force(vector(0,0,0),vector(2,0,0),1,1,vector(0.25,0,0)) # distance = 2\n",
    "test_force(vector(0,0,0),vector(0,1,0),1,1,vector(0,1,0))    # distance = 1 in y direction\n",
    "test_force(vector(10,0,0),vector(10,1,0),1,1,vector(0,1,0))  # displaced from origin"
   ]
  },
  {
   "cell_type": "markdown",
   "metadata": {},
   "source": [
    "### 2. Calculating the motion of a planet in the gravitational field of a star\n",
    "\n",
    "You should complete the following function, without changing its name, arguments or docstring, to calculate the new position and velocity of a planet after a time step `dt`, in the gravitational field of a star of a given mass situated at the origin. This function will need to call `force` to calculate the acceleration vector of the planet."
   ]
  },
  {
   "cell_type": "code",
   "execution_count": 4,
   "metadata": {},
   "outputs": [],
   "source": [
    "def move_planet(position, velocity, m_star, dt):\n",
    "    \"\"\"\n",
    "    Calculate motion of planet in the gravitational field of a star with given mass\n",
    "    at the origin, using Euler's method.\n",
    "    \n",
    "    Input:\n",
    "      - position: position vector of planet at start of time step\n",
    "      - velocity: velocity vector of planet at start of time step\n",
    "      - m_star:   mass of star\n",
    "      - dt:       time step\n",
    "      \n",
    "    Output: (position_new, velocity_new)\n",
    "      - position_new: position vector of planet at end of time step\n",
    "      - velocity_new: velocity vector of planet at end of time step\n",
    "      \n",
    "    Depends on:\n",
    "      - force = function to calculate the gravitational force between two objects\n",
    "    \"\"\"\n",
    "    ##################\n",
    "    # YOUR CODE HERE #\n",
    "    ##################\n",
    "    \n",
    "    origin = vector(0,0,0)                                #Set origin point, which is also where the star resides\n",
    "    \n",
    "    dv = force(origin, position, m_star, 1) * dt          #Calculate the change in velocity using force function above\n",
    "    \n",
    "    dr = velocity * dt                                    #Calculate the change in position using the velocity given in function\n",
    "    \n",
    "    velocity_new = velocity - dv                          #Calculate the new value for velocity\n",
    "    \n",
    "    position_new = position + dr                          #Calculate the new value for position\n",
    "    \n",
    "    \n",
    "    return position_new,velocity_new                      #Returns the new postion and velocity of the planet\n",
    "    "
   ]
  },
  {
   "cell_type": "markdown",
   "metadata": {},
   "source": [
    "#### Testing your function\n",
    "\n",
    "The following cell applies some tests to help you make sure your `move_planet` function works correctly before you use it in the rest of the task. You do not need to understand the details of how it works, but it may help you narrow down any bugs in your code. If each line of output starts with `OK` then it is likely (but not guaranteed) that you have implemented the function correctly."
   ]
  },
  {
   "cell_type": "code",
   "execution_count": 5,
   "metadata": {},
   "outputs": [
    {
     "name": "stdout",
     "output_type": "stream",
     "text": [
      "OK: correct results for input <1, 0, 0>, <1, 0, 0>, 1, 0\n",
      "OK: correct results for input <1, 0, 0>, <1, 0, 0>, 1, 1\n",
      "OK: correct results for input <0, 1, 0>, <0, -1, 0>, 1, 1\n",
      "OK: correct results for input <1, 0, 0>, <0, 1, 0>, 1, 1\n",
      "OK: correct results for input <1, 0, 0>, <0, 1, 0>, 1, 0.1\n",
      "OK: correct results for input <1, 0, 0>, <0, 1, 0>, 2, 0.1\n"
     ]
    }
   ],
   "source": [
    "######################################################\n",
    "#                                                    #\n",
    "# Test move_planet is correct in a few simple cases. #\n",
    "#                                                    #\n",
    "#   DO NOT CHANGE THE CODE IN THIS CELL.             #\n",
    "#                                                    #\n",
    "######################################################\n",
    "\n",
    "def test_move_planet(position, velocity, m_star, dt, expected_pos, expected_vel):\n",
    "    epsilon = 1e-10\n",
    "    results = move_planet(position, velocity, m_star, dt)\n",
    "    if not isinstance(results, tuple):\n",
    "        print(f\"ERROR: function should return two vectors but returns {results}.\")\n",
    "        return\n",
    "    if not len(results)==2:\n",
    "        print(f\"ERROR: function should return two vectors but returns {results}.\")\n",
    "        return\n",
    "    pos, vel = results\n",
    "    if not (isinstance(pos,vector) and isinstance(vel,vector)):\n",
    "        print(f\"ERROR: function should return two vectors but returns {results}.\")\n",
    "        return\n",
    "    args_as_string = f\"{position}, {velocity}, {m_star}, {dt}\"\n",
    "    err_pos, err_vel = mag(pos - expected_pos), mag(vel - expected_vel)\n",
    "    if err_pos < epsilon and err_vel < epsilon:\n",
    "        print(f\"OK: correct results for input {args_as_string}\")\n",
    "    else:\n",
    "        print(f\"ERROR: wrong results for input {args_as_string}\")\n",
    "        print(f\"  expected: {expected_pos, expected_vel}\")\n",
    "        print(f\"  got:      {results}\")\n",
    "\n",
    "\n",
    "test_move_planet(vector(1,0,0), vector(1,0,0), 1, 0, vector(1,0,0), vector(1,0,0))   # dt = 0: output = input\n",
    "test_move_planet(vector(1,0,0), vector(1,0,0), 1, 1, vector(2,0,0), vector(0,0,0))   # moving away from star\n",
    "test_move_planet(vector(0,1,0), vector(0,-1,0), 1, 1, vector(0,0,0), vector(0,-2,0)) # moving towards star\n",
    "test_move_planet(vector(1,0,0), vector(0,1,0), 1, 1, vector(1,1,0), vector(-1,1,0))  # moving past star\n",
    "test_move_planet(vector(1,0,0), vector(0,1,0), 1, 0.1, vector(1,0.1,0), vector(-0.1,1,0))  # smaller dt\n",
    "test_move_planet(vector(1,0,0), vector(0,1,0), 2, 0.1, vector(1,0.1,0), vector(-0.2,1,0))  # larger star mass"
   ]
  },
  {
   "cell_type": "markdown",
   "metadata": {},
   "source": [
    "### 3. Animating the orbit of a planet\n",
    "\n",
    "You should complete the following function, without changing its name, arguments or docstring, to display an animation of the orbit of the planet with the given intial position and velocity, and the given time step. Your planet should leave a visible trail so that we can see the shape of path."
   ]
  },
  {
   "cell_type": "code",
   "execution_count": 6,
   "metadata": {},
   "outputs": [],
   "source": [
    "def animate_planet(position, velocity, m_star, dt):\n",
    "    \"\"\"\n",
    "    Animate planetary orbit from given starting position, with given time step.\n",
    "    \"\"\"\n",
    "    ##################\n",
    "    # YOUR CODE HERE #\n",
    "    ##################\n",
    "     \n",
    "    time = 0                                                    #Initialize the time-value\n",
    "    \n",
    "    initial_pos = position                                      #Initialize the initial position\n",
    "    \n",
    "    initial_vel = velocity                                      #Initialize the initial velocity\n",
    "    \n",
    "    planet = sphere(pos=position,radius=0.2,make_trail=True,color=color.yellow)  # Generate the planet's sphere in canvas\n",
    "    \n",
    "    \n",
    "    \n",
    "    while  time < 10000000:                      #Set while loop to a stop after a very long time for convenience\n",
    "        rate(1000)                               #Set rate to a reasonbly high number so you can see interactions quickly\n",
    "        (position,velocity) = move_planet(position, velocity, m_star, dt)    #Calculate the position and velocity of planet\n",
    "                                                                             #Storing velocity allows us to use the new velocity in next loop to get a changing velocity over time\n",
    "        \n",
    "        planet.pos = position                    #Change postion of planet to new value calculated\n",
    "        time = time + 1                          #Progress the time so that loop knows when to stop.\n",
    "        \n",
    "        \n",
    "        \n",
    "        \n",
    "    \n",
    "    \n",
    "    \n",
    "    \n",
    "    \n",
    "    \n",
    "    "
   ]
  },
  {
   "cell_type": "markdown",
   "metadata": {},
   "source": [
    "#### Testing your function\n",
    "\n",
    "If you have implemented all three functions correctly, the following cell should show an almost elliptical orbit."
   ]
  },
  {
   "cell_type": "code",
   "execution_count": 7,
   "metadata": {},
   "outputs": [
    {
     "data": {
      "text/html": [
       "<div id=\"glowscript\" class=\"glowscript\"></div>"
      ],
      "text/plain": [
       "<IPython.core.display.HTML object>"
      ]
     },
     "metadata": {},
     "output_type": "display_data"
    },
    {
     "data": {
      "application/javascript": [
       "if (typeof Jupyter !== \"undefined\") { window.__context = { glowscript_container: $(\"#glowscript\").removeAttr(\"id\")};}else{ element.textContent = ' ';}"
      ],
      "text/plain": [
       "<IPython.core.display.Javascript object>"
      ]
     },
     "metadata": {},
     "output_type": "display_data"
    },
    {
     "data": {
      "application/javascript": [
       "if (typeof Jupyter !== \"undefined\") {require.undef(\"nbextensions/vpython_libraries/glow.min\");}else{element.textContent = ' ';}"
      ],
      "text/plain": [
       "<IPython.core.display.Javascript object>"
      ]
     },
     "metadata": {},
     "output_type": "display_data"
    },
    {
     "data": {
      "application/javascript": [
       "if (typeof Jupyter !== \"undefined\") {require.undef(\"nbextensions/vpython_libraries/glowcomm\");}else{element.textContent = ' ';}"
      ],
      "text/plain": [
       "<IPython.core.display.Javascript object>"
      ]
     },
     "metadata": {},
     "output_type": "display_data"
    },
    {
     "data": {
      "application/javascript": [
       "if (typeof Jupyter !== \"undefined\") {require.undef(\"nbextensions/vpython_libraries/jquery-ui.custom.min\");}else{element.textContent = ' ';}"
      ],
      "text/plain": [
       "<IPython.core.display.Javascript object>"
      ]
     },
     "metadata": {},
     "output_type": "display_data"
    },
    {
     "data": {
      "application/javascript": [
       "if (typeof Jupyter !== \"undefined\") {require([\"nbextensions/vpython_libraries/glow.min\"], function(){console.log(\"GLOW LOADED\");});}else{element.textContent = ' ';}"
      ],
      "text/plain": [
       "<IPython.core.display.Javascript object>"
      ]
     },
     "metadata": {},
     "output_type": "display_data"
    },
    {
     "data": {
      "application/javascript": [
       "if (typeof Jupyter !== \"undefined\") {require([\"nbextensions/vpython_libraries/glowcomm\"], function(){console.log(\"GLOWCOMM LOADED\");});}else{element.textContent = ' ';}"
      ],
      "text/plain": [
       "<IPython.core.display.Javascript object>"
      ]
     },
     "metadata": {},
     "output_type": "display_data"
    },
    {
     "data": {
      "application/javascript": [
       "if (typeof Jupyter !== \"undefined\") {require([\"nbextensions/vpython_libraries/jquery-ui.custom.min\"], function(){console.log(\"JQUERY LOADED\");});}else{element.textContent = ' ';}"
      ],
      "text/plain": [
       "<IPython.core.display.Javascript object>"
      ]
     },
     "metadata": {},
     "output_type": "display_data"
    },
    {
     "ename": "KeyboardInterrupt",
     "evalue": "",
     "output_type": "error",
     "traceback": [
      "\u001b[1;31m---------------------------------------------------------------------------\u001b[0m",
      "\u001b[1;31mKeyboardInterrupt\u001b[0m                         Traceback (most recent call last)",
      "Cell \u001b[1;32mIn[7], line 9\u001b[0m\n\u001b[0;32m      6\u001b[0m sphere(pos\u001b[38;5;241m=\u001b[39mvector(\u001b[38;5;241m0\u001b[39m,\u001b[38;5;241m0\u001b[39m,\u001b[38;5;241m0\u001b[39m), color\u001b[38;5;241m=\u001b[39mcolor\u001b[38;5;241m.\u001b[39myellow, radius\u001b[38;5;241m=\u001b[39m\u001b[38;5;241m0.1\u001b[39m) \u001b[38;5;66;03m# draw star\u001b[39;00m\n\u001b[0;32m      8\u001b[0m \u001b[38;5;66;03m# Animate orbit of planet\u001b[39;00m\n\u001b[1;32m----> 9\u001b[0m animate_planet(pos_planet, v_planet, m_star, \u001b[38;5;241m1e-4\u001b[39m)\n",
      "Cell \u001b[1;32mIn[6], line 20\u001b[0m, in \u001b[0;36manimate_planet\u001b[1;34m(position, velocity, m_star, dt)\u001b[0m\n\u001b[0;32m     15\u001b[0m planet \u001b[38;5;241m=\u001b[39m sphere(pos\u001b[38;5;241m=\u001b[39mposition,radius\u001b[38;5;241m=\u001b[39m\u001b[38;5;241m0.2\u001b[39m,make_trail\u001b[38;5;241m=\u001b[39m\u001b[38;5;28;01mTrue\u001b[39;00m,color\u001b[38;5;241m=\u001b[39mcolor\u001b[38;5;241m.\u001b[39myellow)  \u001b[38;5;66;03m# Generate the planet's sphere in canvas\u001b[39;00m\n\u001b[0;32m     19\u001b[0m \u001b[38;5;28;01mwhile\u001b[39;00m  time \u001b[38;5;241m<\u001b[39m \u001b[38;5;241m10000000\u001b[39m:                      \u001b[38;5;66;03m#Set while loop to a stop after a very long time for convenience\u001b[39;00m\n\u001b[1;32m---> 20\u001b[0m     rate(\u001b[38;5;241m1000\u001b[39m)                               \u001b[38;5;66;03m#Set rate to a reasonbly high number so you can see interactions quickly\u001b[39;00m\n\u001b[0;32m     21\u001b[0m     (position,velocity) \u001b[38;5;241m=\u001b[39m move_planet(position, velocity, m_star, dt)    \u001b[38;5;66;03m#Calculate the position and velocity of planet\u001b[39;00m\n\u001b[0;32m     22\u001b[0m                                                                          \u001b[38;5;66;03m#Storing velocity allows us to use the new velocity in next loop to get a changing velocity over time\u001b[39;00m\n",
      "File \u001b[1;32m~\\anaconda3\\Lib\\site-packages\\vpython\\rate_control.py:266\u001b[0m, in \u001b[0;36m_RateKeeper2.__call__\u001b[1;34m(self, N)\u001b[0m\n\u001b[0;32m    264\u001b[0m \u001b[38;5;28mself\u001b[39m\u001b[38;5;241m.\u001b[39mrval \u001b[38;5;241m=\u001b[39m N\n\u001b[0;32m    265\u001b[0m \u001b[38;5;28;01mif\u001b[39;00m \u001b[38;5;28mself\u001b[39m\u001b[38;5;241m.\u001b[39mrval \u001b[38;5;241m<\u001b[39m \u001b[38;5;241m1\u001b[39m: \u001b[38;5;28;01mraise\u001b[39;00m \u001b[38;5;167;01mValueError\u001b[39;00m(\u001b[38;5;124m\"\u001b[39m\u001b[38;5;124mrate value must be greater than or equal to 1\u001b[39m\u001b[38;5;124m\"\u001b[39m)\n\u001b[1;32m--> 266\u001b[0m \u001b[38;5;28msuper\u001b[39m(_RateKeeper2, \u001b[38;5;28mself\u001b[39m)\u001b[38;5;241m.\u001b[39m\u001b[38;5;21m__call__\u001b[39m(\u001b[38;5;28mself\u001b[39m\u001b[38;5;241m.\u001b[39mrval)\n",
      "File \u001b[1;32m~\\anaconda3\\Lib\\site-packages\\vpython\\rate_control.py:220\u001b[0m, in \u001b[0;36mRateKeeper.__call__\u001b[1;34m(self, maxRate)\u001b[0m\n\u001b[0;32m    217\u001b[0m \u001b[38;5;66;03m# Determine how much time is left before the next predicted call to rate:\u001b[39;00m\n\u001b[0;32m    218\u001b[0m dt \u001b[38;5;241m=\u001b[39m \u001b[38;5;28mself\u001b[39m\u001b[38;5;241m.\u001b[39mlastSleep \u001b[38;5;241m+\u001b[39m \u001b[38;5;28mself\u001b[39m\u001b[38;5;241m.\u001b[39mcalls\u001b[38;5;241m*\u001b[39m(\u001b[38;5;28mself\u001b[39m\u001b[38;5;241m.\u001b[39muserTime \u001b[38;5;241m+\u001b[39m \u001b[38;5;28mself\u001b[39m\u001b[38;5;241m.\u001b[39mcallTime \u001b[38;5;241m+\u001b[39m \u001b[38;5;28mself\u001b[39m\u001b[38;5;241m.\u001b[39mdelay) \u001b[38;5;241m+\u001b[39m \\\n\u001b[0;32m    219\u001b[0m      renders\u001b[38;5;241m*\u001b[39m\u001b[38;5;28mself\u001b[39m\u001b[38;5;241m.\u001b[39mrenderTime \u001b[38;5;241m+\u001b[39m sleeps\u001b[38;5;241m*\u001b[39m\u001b[38;5;28mself\u001b[39m\u001b[38;5;241m.\u001b[39minteractionPeriod \u001b[38;5;241m-\u001b[39m _clock()\n\u001b[1;32m--> 220\u001b[0m _sleep(dt)\n\u001b[0;32m    221\u001b[0m \u001b[38;5;28mself\u001b[39m\u001b[38;5;241m.\u001b[39mlastSleep \u001b[38;5;241m=\u001b[39m _clock()\n\u001b[0;32m    222\u001b[0m \u001b[38;5;28mself\u001b[39m\u001b[38;5;241m.\u001b[39mcalls \u001b[38;5;241m=\u001b[39m \u001b[38;5;241m0\u001b[39m\n",
      "File \u001b[1;32m~\\anaconda3\\Lib\\site-packages\\vpython\\rate_control.py:68\u001b[0m, in \u001b[0;36m_sleep\u001b[1;34m(dt)\u001b[0m\n\u001b[0;32m     66\u001b[0m     \u001b[38;5;28;01mreturn\u001b[39;00m\n\u001b[0;32m     67\u001b[0m tend \u001b[38;5;241m=\u001b[39m _clock()\u001b[38;5;241m+\u001b[39mdt\n\u001b[1;32m---> 68\u001b[0m \u001b[38;5;28;01mwhile\u001b[39;00m _clock() \u001b[38;5;241m<\u001b[39m tend:\n\u001b[0;32m     69\u001b[0m     \u001b[38;5;28;01mpass\u001b[39;00m\n",
      "\u001b[1;31mKeyboardInterrupt\u001b[0m: "
     ]
    }
   ],
   "source": [
    "# Initialize canvas, and set parameters of star and planet.\n",
    "canvas()\n",
    "pos_planet = vector(0,2,0)   # initial position of planet\n",
    "v_planet   = vector(-22,0,0) # initial velocity of planet\n",
    "m_star     = 1000.           # mass of star (units where G=1)\n",
    "sphere(pos=vector(0,0,0), color=color.yellow, radius=0.1) # draw star\n",
    "\n",
    "# Animate orbit of planet\n",
    "animate_planet(pos_planet, v_planet, m_star, 1e-4)"
   ]
  },
  {
   "cell_type": "markdown",
   "metadata": {},
   "source": [
    "### 4. Investigation\n",
    "\n",
    "You should insert code and text cells below as required to investigate and discuss the effect of changing the parameters of the animation: time step, mass of star, initial position and velocity of planet. "
   ]
  },
  {
   "cell_type": "markdown",
   "metadata": {},
   "source": [
    "# Answer\n",
    "\n",
    "Changing the time-step increases the speed with which the planet orbits the star.\n",
    "\n",
    "Increasing mass of star would increase the force-vector due to gravitational attraction. This would cause the eccentricity to decrease, resulting in an orbit that reduces in spirality until the orbit is circuluar. Then, orbit would become more and more eccentric such that the planet would spiral inwards into the star.\n",
    "\n",
    "\n",
    "Changing the initial position and velocity changes the shape of the orbit. The closer the initial position is to the star, the higher the chances of the planet spiralling into the star. The higher the initial velocity, the higher the chances of theplanet spiraling out of orbit."
   ]
  },
  {
   "cell_type": "markdown",
   "metadata": {},
   "source": [
    "## Part B\n",
    "\n",
    "It is up to you to structure the rest of the notebook as you see fit, as you complete the tasks set in part B of the assignment.\n",
    "\n",
    "You can call the functions you have defined in part A, or copy and adapt them in part B, but **DO NOT CHANGE THE CODE IN PART A SUCH THAT THE CELLS IN PART A NO LONGER WORK CORRECTLY.** You do not want to lose marks in section A in completing section B."
   ]
  },
  {
   "cell_type": "markdown",
   "metadata": {},
   "source": [
    "#                                             Two planets"
   ]
  },
  {
   "cell_type": "code",
   "execution_count": null,
   "metadata": {},
   "outputs": [],
   "source": [
    "def animate_two_planets(positionplanet1, velocityplanet1, positionplanet2, velocityplanet2, m_star, dt):\n",
    "    \"\"\"\n",
    "    Animate two planetary orbits from given starting position, with given time step.\n",
    "    \"\"\"\n",
    "    ##################\n",
    "    # YOUR CODE HERE #\n",
    "    ##################\n",
    "     \n",
    "    time = 0                                                   #Initialize time value\n",
    "    \n",
    "    initial_pos1 = positionplanet1                             #Initialize position of planet1\n",
    "    \n",
    "    initial_vel1 = velocityplanet1                             #Initialize velocity of planet1\n",
    "    \n",
    "    initial_pos2 = positionplanet2                             #Initialize position of planet2\n",
    "    \n",
    "    initial_vel2 = velocityplanet2                             #Initialize velocity of planet2\n",
    "    \n",
    "    planet1 = sphere(pos=positionplanet1,radius=0.05,make_trail=True,color=color.blue)    #Generate planet1 on canvas\n",
    "    \n",
    "    planet2 = sphere(pos=positionplanet2,radius=0.05,make_trail=True,color=color.green)   #Generate planet2 on canvas\n",
    "    \n",
    "    while  time < 10000000:      #Set while loop to a stop after a very long time for convenience\n",
    "        rate(1000)               #Set rate to a reasonbly high number so you can see interactions quickly\n",
    "        \n",
    "        (positionplanet1,velocityplanet1) = move_planet(positionplanet1, velocityplanet1, m_star, dt) #Calculate the position and velocity of planet1\n",
    "        (positionplanet2,velocityplanet2) = move_planet(positionplanet2, velocityplanet2, m_star, dt) #Calculate the position and velocity of planet2\n",
    "        #Storing velocity allows us to use the new velocity in next loop to get a changing velocity over time\n",
    "    \n",
    "        planet1.pos = positionplanet1      #Change postion of planet1 to new value calculated\n",
    "        planet2.pos = positionplanet2      #Change postion of planet to new value calculated \n",
    "\n",
    "        time = time + 1                 #Progress the time so that loop knows when to stop.\n",
    "        "
   ]
  },
  {
   "cell_type": "code",
   "execution_count": null,
   "metadata": {},
   "outputs": [],
   "source": [
    "# Initialize canvas, and set parameters of star and planet.\n",
    "canvas()\n",
    "pos_planet1 = vector(1.85, 0, 0)   # initial position of planet1\n",
    "v_planet1   = vector(0, 23.25, 0) # initial velocity of planet1\n",
    "pos_planet2 = vector(1.96, 0.4, 0)   # initial position of planet1\n",
    "v_planet2   = vector(-4.44, 21.9, 0) # initial velocity of planet1\n",
    "m_star     = 1000.           # mass of star (units where G=1)\n",
    "sphere(pos=vector(0,0,0), color=color.yellow, radius=0.3) # draw star\n",
    "\n",
    "# Animate orbit of planet\n",
    "animate_two_planets(pos_planet1, v_planet1, pos_planet2, v_planet2, m_star, 1e-4)"
   ]
  },
  {
   "cell_type": "markdown",
   "metadata": {},
   "source": [
    "# Two planets with gravitational interactions"
   ]
  },
  {
   "cell_type": "code",
   "execution_count": null,
   "metadata": {},
   "outputs": [],
   "source": [
    "def move_gravplanets(m_planet1, position1, velocity1, m_planet2, position2, velocity2, m_star, dt):\n",
    "    \"\"\"\n",
    "    Calculate motion of planet in the gravitational field of a star with given mass\n",
    "    at the origin, using Euler's method.\n",
    "    \n",
    "    Input:\n",
    "      - position1: position vector of planet1 at start of time step\n",
    "      - velocity1: velocity vector of planet1 at start of time step\n",
    "      - position2: position vector of planet2 at start of time step\n",
    "      - velocity2: velocity vector of planet2 at start of time step\n",
    "      - m_star:   mass of star\n",
    "      - dt:       time step\n",
    "      \n",
    "    Output: (position_new, velocity_new)\n",
    "      - position_new: position vector of planet at end of time step\n",
    "      - velocity_new: velocity vector of planet at end of time step\n",
    "      \n",
    "    Depends on:\n",
    "      - force = function to calculate the gravitational force between two objects\n",
    "    \"\"\"\n",
    "    ##################\n",
    "    # YOUR CODE HERE #\n",
    "    ##################\n",
    "    \n",
    "    origin = vector(0,0,0)                                 #Setup the vector position of origin (location of star)\n",
    "    \n",
    "    #For planet1\n",
    "    dv1 = force(origin, position1, m_star, m_planet1) * dt        #Change in velocity due to planet-star interaction\n",
    "    dV1 = force(position2, position1, m_planet1, m_planet2) * dt   #Change in velocity due to planet-planet interaction\n",
    "    dr1 = velocity1 * dt                           #Change in position of planet based on velocity-value defined in function\n",
    "    \n",
    "    #For planet2\n",
    "    dv2 = force(origin, position2, m_star, m_planet2) * dt        #Change in velocity due to planet-star interaction\n",
    "    dV2 = force(position1, position2, m_planet2, m_planet1) * dt   #Change in velocity due to planet-planet interaction\n",
    "    dr2 = velocity2 * dt                           #Change in position of planet based on velocity-value defined in function\n",
    "    \n",
    "    velocity_new1 = velocity1 - (dv1 + dV1)      #Calculate the new value for velocity for Planet 1\n",
    "    velocity_new2 = velocity2 - (dv2 + dV2)      #Calculate the new value for velocity for Planet 2\n",
    "    \n",
    "    position_new1 = position1 + dr1             #Calculate the new value for position of Planet 1\n",
    "    position_new2 = position2 + dr2             #Calculate the new value for postion of Planet 25555555555555555\n",
    "    \n",
    "    \n",
    "    return position_new1,velocity_new1,position_new2,velocity_new2       #Return the new velocity and position of planet1 and planet2"
   ]
  },
  {
   "cell_type": "code",
   "execution_count": null,
   "metadata": {},
   "outputs": [],
   "source": [
    "def animate_two_gravplanets(m_planet1, position1, velocity1, m_planet2, position2, velocity2, m_star, dt):\n",
    "    \"\"\"\n",
    "    Animate two planetary orbits from given starting position, with given time step.\n",
    "    \"\"\"\n",
    "    ##################\n",
    "    # YOUR CODE HERE #\n",
    "    ##################\n",
    "     \n",
    "    time = 0                                           #Initialize time value\n",
    "    \n",
    "    initial_pos1 = position1                           #Initialize position of planet1\n",
    "    \n",
    "    initial_vel1 = velocity1                           #Initialize velocity of planet1\n",
    "    \n",
    "    initial_pos2 = position2                           #Initialize position of planet2\n",
    "    \n",
    "    initial_vel2 = velocity2                           #Initialize velocity of planet2\n",
    "    \n",
    "    planet1 = sphere(pos=position1,radius=0.05,make_trail=True,color=color.blue) #Generate planet1 on canvas\n",
    "    \n",
    "    planet2 = sphere(pos=position2,radius=0.05,make_trail=True,color=color.green) #Generate planet2 on canvas\n",
    "    \n",
    "    while  time < 10000000:          #Set while loop to a stop after a very long time for convenience\n",
    "        rate(500)                    #Set rate to a reasonbly high number so you can see interactions quickly\n",
    "        \n",
    "        #Calculate the position and velocity of planet 1 and Planet 2 via the adjusted move_gravplanets function\n",
    "        #Storing velocity allows us to use the new velocity in next loop to get a changing velocity over time\n",
    "        (position1,velocity1,position2,velocity2) = move_gravplanets(m_planet1, position1, velocity1, m_planet2, position2, velocity2, m_star, dt)\n",
    "        \n",
    "        planet1.pos = position1    #Change postion of planet1 to new value calculated\n",
    "        planet2.pos = position2    #Change postion of planet2 to new value calculated\n",
    "        time = time + 1            #Progress the time so that loop knows when to stop.\n",
    "    \n",
    "    \n",
    "    #Initialize time value\n",
    "#Initialize position of planet1\n",
    "#Initialize velocity of planet1\n",
    "#Initialize position of planet2\n",
    "#Initialize velocity of planet2\n",
    "#Generate planet1 on canvas\n",
    "#Generate planet2 on canvas\n",
    "#Set while loop to a stop after a very long time for convenience\n",
    "#Set rate to a reasonbly high number so you can see interactions quickly\n",
    "#Calculate the position and velocity of planet1\n",
    "#Calculate the position and velocity of planet2\n",
    "#Storing velocity allows us to use the new velocity in next loop to get a changing velocity over time\n",
    "#Change postion of planet1 to new value calculated\n",
    "#Change postion of planet to new value calculated\n",
    "#Progress the time so that loop knows when to stop.\n",
    "\n"
   ]
  },
  {
   "cell_type": "code",
   "execution_count": null,
   "metadata": {},
   "outputs": [],
   "source": [
    "# Initialize canvas, and set parameters of star and planet.\n",
    "canvas()\n",
    "pos_planet1 = vector(1.85, 0, 2)   # initial position of planet1\n",
    "v_planet1   = vector(0, 23.25, 0) # initial velocity of planet1\n",
    "pos_planet2 = vector(1.96, 0.4, 0)   # initial position of planet1\n",
    "v_planet2   = vector(-4.44, 21.9, 0) # initial velocity of planet1\n",
    "m_star     = 1000.           # mass of star (units where G=1)\n",
    "sphere(pos=vector(0,0,0), color=color.yellow, radius=0.3) # draw star\n",
    "\n",
    "# Animate orbit of planet\n",
    "animate_two_gravplanets(2, pos_planet1, v_planet1, 2,  pos_planet2, v_planet2, m_star, 1e-4)"
   ]
  },
  {
   "cell_type": "markdown",
   "metadata": {},
   "source": [
    "# Simulating one planet being much slower than the other planet"
   ]
  },
  {
   "cell_type": "code",
   "execution_count": null,
   "metadata": {},
   "outputs": [],
   "source": [
    "# Initialize canvas, and set parameters of star and planet.\n",
    "canvas()\n",
    "pos_planet1 = vector(1.85, 0, 2)   # initial position of planet1\n",
    "v_planet1   = vector(0, 23.25, 0) # initial velocity of planet1\n",
    "pos_planet2 = vector(1.96, 0.4, 0)   # initial position of planet1\n",
    "v_planet2   = vector(0, 5, 0) # initial velocity of planet1\n",
    "m_star     = 1000.           # mass of star (units where G=1)\n",
    "sphere(pos=vector(0,0,0), color=color.yellow, radius=0.3) # draw star\n",
    "\n",
    "# Animate orbit of planet\n",
    "animate_two_gravplanets(2, pos_planet1, v_planet1, 2,  pos_planet2, v_planet2, m_star, 1e-4)"
   ]
  },
  {
   "cell_type": "markdown",
   "metadata": {},
   "source": [
    "# Simulating one planet being much faster than the other planet"
   ]
  },
  {
   "cell_type": "code",
   "execution_count": null,
   "metadata": {},
   "outputs": [],
   "source": [
    "# Initialize canvas, and set parameters of star and planet.\n",
    "canvas()\n",
    "pos_planet1 = vector(1.85, 0, 2)   # initial position of planet1\n",
    "v_planet1   = vector(0, 50, 0) # initial velocity of planet1\n",
    "pos_planet2 = vector(1.96, 0.4, 0)   # initial position of planet1\n",
    "v_planet2   = vector(-4.44, 21.9, 0) # initial velocity of planet1\n",
    "m_star     = 1000.           # mass of star (units where G=1)\n",
    "sphere(pos=vector(0,0,0), color=color.yellow, radius=0.3) # draw star\n",
    "\n",
    "# Animate orbit of planet\n",
    "animate_two_gravplanets(2, pos_planet1, v_planet1, 2,  pos_planet2, v_planet2, m_star, 1e-4)"
   ]
  },
  {
   "cell_type": "markdown",
   "metadata": {},
   "source": [
    "# Observations\n",
    "\n",
    "When a planet orbits too slowly, it quickly ends up crashing into the star, while when the velocity of orbit is too high, the planet deflects a bit, but mostly flies out of orbit, escaping the stars orbit"
   ]
  },
  {
   "cell_type": "markdown",
   "metadata": {},
   "source": [
    "# Simulating one planet orbiting much closer to the star, while having similar orbital speed to a planet in an almost-stable orbit"
   ]
  },
  {
   "cell_type": "code",
   "execution_count": null,
   "metadata": {},
   "outputs": [],
   "source": [
    "# Initialize canvas, and set parameters of star and planet.\n",
    "canvas()\n",
    "pos_planet1 = vector(0.5, 0, 0.8)   # initial position of planet1\n",
    "v_planet1   = vector(0, 23.25, 0) # initial velocity of planet1\n",
    "pos_planet2 = vector(1.96, 0.4, 0)   # initial position of planet1\n",
    "v_planet2   = vector(-4.44, 21.9, 0) # initial velocity of planet1\n",
    "m_star     = 1000.           # mass of star (units where G=1)\n",
    "sphere(pos=vector(0,0,0), color=color.yellow, radius=0.3) # draw star\n",
    "\n",
    "# Animate orbit of planet\n",
    "animate_two_gravplanets(2, pos_planet1, v_planet1, 2,  pos_planet2, v_planet2, m_star, 1e-4)"
   ]
  },
  {
   "cell_type": "markdown",
   "metadata": {},
   "source": [
    "# Simulating one planet orbitting much closer to the star, while having an orbital speed that would allow for it to be in a temporarily stable orbit."
   ]
  },
  {
   "cell_type": "code",
   "execution_count": null,
   "metadata": {},
   "outputs": [],
   "source": [
    "# Initialize canvas, and set parameters of star and planet.\n",
    "canvas()\n",
    "pos_planet1 = vector(0.5, 0, 0.8)   # initial position of planet1\n",
    "v_planet1   = vector(0, 50, 0) # initial velocity of planet1\n",
    "pos_planet2 = vector(1.96, 0.4, 0)   # initial position of planet1\n",
    "v_planet2   = vector(-4.44, 21.9, 0) # initial velocity of planet1\n",
    "m_star     = 1000.           # mass of star (units where G=1)\n",
    "sphere(pos=vector(0,0,0), color=color.yellow, radius=0.3) # draw star\n",
    "\n",
    "# Animate orbit of planet\n",
    "animate_two_gravplanets(2, pos_planet1, v_planet1, 2,  pos_planet2, v_planet2, m_star, 1e-4)"
   ]
  },
  {
   "cell_type": "markdown",
   "metadata": {},
   "source": [
    "# Observations\n",
    "\n",
    "From these simulations, we can see that the closer the object is to the parent star, the faster the orbital has to be to sustain an orbit."
   ]
  },
  {
   "cell_type": "markdown",
   "metadata": {},
   "source": [
    "# Check to see if both planets are interacting with each gravitationally"
   ]
  },
  {
   "cell_type": "code",
   "execution_count": null,
   "metadata": {},
   "outputs": [],
   "source": [
    "# Initialize canvas, and set parameters of star and planet.\n",
    "canvas()\n",
    "pos_planet1 = vector(1.85, 0, 2)   # initial position of planet1\n",
    "v_planet1   = vector(0, 23.25, 0) # initial velocity of planet1\n",
    "pos_planet2 = vector(1.96, 0.4, 0)   # initial position of planet1\n",
    "v_planet2   = vector(0, 5, 0) # initial velocity of planet1\n",
    "m_star     = 0          # mass of star (units where G=1)\n",
    "sphere(pos=vector(0,0,0), color=color.yellow, radius=0.3) # draw star\n",
    "\n",
    "# Animate orbit of planet\n",
    "animate_two_gravplanets(1000, pos_planet1, v_planet1, 2,  pos_planet2, v_planet2, m_star, 1e-4)"
   ]
  },
  {
   "cell_type": "markdown",
   "metadata": {},
   "source": [
    "# Observations\n",
    "\n",
    "It works!!!"
   ]
  },
  {
   "cell_type": "code",
   "execution_count": null,
   "metadata": {},
   "outputs": [],
   "source": []
  },
  {
   "cell_type": "code",
   "execution_count": null,
   "metadata": {},
   "outputs": [],
   "source": []
  }
 ],
 "metadata": {
  "kernelspec": {
   "display_name": "Python 3 (ipykernel)",
   "language": "python",
   "name": "python3"
  },
  "language_info": {
   "codemirror_mode": {
    "name": "ipython",
    "version": 3
   },
   "file_extension": ".py",
   "mimetype": "text/x-python",
   "name": "python",
   "nbconvert_exporter": "python",
   "pygments_lexer": "ipython3",
   "version": "3.11.5"
  }
 },
 "nbformat": 4,
 "nbformat_minor": 4
}
